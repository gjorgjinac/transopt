{
 "cells": [
  {
   "cell_type": "code",
   "execution_count": 2,
   "metadata": {},
   "outputs": [
    {
     "name": "stderr",
     "output_type": "stream",
     "text": [
      "/opt/conda/envs/Base/lib/python3.8/site-packages/tqdm/auto.py:21: TqdmWarning: IProgress not found. Please update jupyter and ipywidgets. See https://ipywidgets.readthedocs.io/en/stable/user_install.html\n",
      "  from .autonotebook import tqdm as notebook_tqdm\n"
     ]
    },
    {
     "name": "stdout",
     "output_type": "stream",
     "text": [
      "os              : Linux-5.13.0-52-generic-x86_64-with-glibc2.10\n",
      "python          : 3.8.16\n",
      "tsai            : 0.3.5\n",
      "fastai          : 2.7.11\n",
      "fastcore        : 1.5.28\n",
      "torch           : 1.13.1+cu117\n",
      "device          : 1 gpu (['Tesla K80'])\n",
      "cpu cores       : 24\n",
      "threads per cpu : 2\n",
      "RAM             : 1007.78 GB\n",
      "GPU memory      : [11.17] GB\n",
      "os              : Linux-5.13.0-52-generic-x86_64-with-glibc2.10\n",
      "python          : 3.8.16\n",
      "tsai            : 0.3.5\n",
      "fastai          : 2.7.11\n",
      "fastcore        : 1.5.28\n",
      "torch           : 1.13.1+cu117\n",
      "device          : 1 gpu (['Tesla K80'])\n",
      "cpu cores       : 24\n",
      "threads per cpu : 2\n",
      "RAM             : 1007.78 GB\n",
      "GPU memory      : [11.17] GB\n",
      "os              : Linux-5.13.0-52-generic-x86_64-with-glibc2.10\n",
      "python          : 3.8.16\n",
      "tsai            : 0.3.5\n",
      "fastai          : 2.7.11\n",
      "fastcore        : 1.5.28\n",
      "torch           : 1.13.1+cu117\n",
      "device          : 1 gpu (['Tesla K80'])\n",
      "cpu cores       : 24\n",
      "threads per cpu : 2\n",
      "RAM             : 1007.78 GB\n",
      "GPU memory      : [11.17] GB\n",
      "os              : Linux-5.13.0-52-generic-x86_64-with-glibc2.10\n",
      "python          : 3.8.16\n",
      "tsai            : 0.3.5\n",
      "fastai          : 2.7.11\n",
      "fastcore        : 1.5.28\n",
      "torch           : 1.13.1+cu117\n",
      "device          : 1 gpu (['Tesla K80'])\n",
      "cpu cores       : 24\n",
      "threads per cpu : 2\n",
      "RAM             : 1007.78 GB\n",
      "GPU memory      : [11.17] GB\n",
      "os              : Linux-5.13.0-52-generic-x86_64-with-glibc2.10\n",
      "python          : 3.8.16\n",
      "tsai            : 0.3.5\n",
      "fastai          : 2.7.11\n",
      "fastcore        : 1.5.28\n",
      "torch           : 1.13.1+cu117\n",
      "device          : 1 gpu (['Tesla K80'])\n",
      "cpu cores       : 24\n",
      "threads per cpu : 2\n",
      "RAM             : 1007.78 GB\n",
      "GPU memory      : [11.17] GB\n"
     ]
    }
   ],
   "source": [
    "import utils_runner_universal"
   ]
  },
  {
   "cell_type": "code",
   "execution_count": null,
   "metadata": {},
   "outputs": [],
   "source": []
  },
  {
   "cell_type": "code",
   "execution_count": 8,
   "metadata": {},
   "outputs": [],
   "source": [
    "import pickle\n",
    "import pandas as pd\n",
    "import numpy as np\n",
    "from utils_pre_processor import PreProcessor\n",
    "import os"
   ]
  },
  {
   "cell_type": "code",
   "execution_count": 9,
   "metadata": {},
   "outputs": [],
   "source": [
    "dimension=5"
   ]
  },
  {
   "cell_type": "code",
   "execution_count": 10,
   "metadata": {},
   "outputs": [],
   "source": [
    "x_columns=[f'x_{i}' for i in range (0,dimension)]\n",
    "y_columns = ['y']"
   ]
  },
  {
   "cell_type": "code",
   "execution_count": 11,
   "metadata": {},
   "outputs": [],
   "source": [
    "preprocessor=PreProcessor(normalize=True)"
   ]
  },
  {
   "cell_type": "code",
   "execution_count": 12,
   "metadata": {},
   "outputs": [
    {
     "name": "stdout",
     "output_type": "stream",
     "text": [
      "Normalizing\n",
      "(2400000, 6)\n",
      "Normalizing\n",
      "(2400000, 6)\n",
      "Normalizing\n",
      "(2400000, 6)\n",
      "Normalizing\n",
      "(2400000, 6)\n",
      "Normalizing\n",
      "(2400000, 6)\n",
      "Normalizing\n",
      "(2400000, 6)\n",
      "Normalizing\n",
      "(2400000, 6)\n",
      "Normalizing\n",
      "(2400000, 6)\n",
      "Normalizing\n",
      "(2400000, 6)\n",
      "Normalizing\n",
      "(2400000, 6)\n",
      "Normalizing\n",
      "(2400000, 6)\n",
      "Normalizing\n",
      "(2400000, 6)\n",
      "Normalizing\n",
      "(2400000, 6)\n",
      "Normalizing\n",
      "(2400000, 6)\n",
      "Normalizing\n",
      "(2400000, 6)\n"
     ]
    }
   ],
   "source": [
    "sample_df=pd.DataFrame()\n",
    "algorithm_names=['DE','ES','PSO']\n",
    "seeds=[200,400,600,800,1000]\n",
    "run=0\n",
    "end_iteration=19\n",
    "os.makedirs(f'algorithm_run_data_y_norm_it_{end_iteration+1}',exist_ok=True)\n",
    "for algorithm_name in algorithm_names:\n",
    "    for seed in seeds:\n",
    "        sample_df_1=pd.read_csv(f'algorithm_run_data/{algorithm_name}_dim_{dimension}_seed_{seed}.csv',index_col=[0],compression='zip')\n",
    "        sample_df_1['seed']=seed\n",
    "        sample_df_1=sample_df_1.set_index(['iteration','algorithm_name','problem_id','instance_id','seed'])\n",
    "        sample_df_1.columns = x_columns + y_columns\n",
    "\n",
    "        sample_df_1=sample_df_1.query('iteration<=@end_iteration')\n",
    "        sample_df_1=preprocessor.normalize_y(sample_df_1)\n",
    "        sample_df_1.to_csv(f'algorithm_run_data_y_norm_it_{end_iteration+1}/{algorithm_name}_dim_{dimension}_seed_{seed}.csv',compression='zip')"
   ]
  },
  {
   "cell_type": "code",
   "execution_count": null,
   "metadata": {},
   "outputs": [],
   "source": []
  }
 ],
 "metadata": {
  "accelerator": "GPU",
  "colab": {
   "provenance": []
  },
  "gpuClass": "standard",
  "kernelspec": {
   "display_name": "Base",
   "language": "python",
   "name": "base"
  },
  "language_info": {
   "codemirror_mode": {
    "name": "ipython",
    "version": 3
   },
   "file_extension": ".py",
   "mimetype": "text/x-python",
   "name": "python",
   "nbconvert_exporter": "python",
   "pygments_lexer": "ipython3",
   "version": "3.8.16"
  }
 },
 "nbformat": 4,
 "nbformat_minor": 4
}
