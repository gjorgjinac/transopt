{
 "cells": [
  {
   "cell_type": "code",
   "execution_count": 1,
   "id": "dc25640e-3b52-48bd-b9c7-86509bc9b1e7",
   "metadata": {},
   "outputs": [],
   "source": [
    "import pandas as pd\n",
    "import os\n",
    "import seaborn as sns\n",
    "import matplotlib.pyplot as plt\n",
    "from sklearn.metrics import ConfusionMatrixDisplay, classification_report, confusion_matrix\n",
    "from config import *"
   ]
  },
  {
   "cell_type": "code",
   "execution_count": 2,
   "id": "6292f1ca-395e-4d88-a718-f454a1803490",
   "metadata": {},
   "outputs": [],
   "source": [
    "result_dir=os.path.join('results','problem_classification_stats')"
   ]
  },
  {
   "cell_type": "code",
   "execution_count": 3,
   "id": "531cc9d7-1264-42f9-9c48-0075fe362b1d",
   "metadata": {},
   "outputs": [
    {
     "ename": "KeyboardInterrupt",
     "evalue": "",
     "output_type": "error",
     "traceback": [
      "\u001b[0;31m---------------------------------------------------------------------------\u001b[0m",
      "\u001b[0;31mKeyboardInterrupt\u001b[0m                         Traceback (most recent call last)",
      "Cell \u001b[0;32mIn[3], line 12\u001b[0m\n\u001b[1;32m     10\u001b[0m test_report\u001b[38;5;241m=\u001b[39mos\u001b[38;5;241m.\u001b[39mpath\u001b[38;5;241m.\u001b[39mjoin(result_dir, config_dir, \u001b[38;5;124m'\u001b[39m\u001b[38;5;124mtest_classification_report.csv\u001b[39m\u001b[38;5;124m'\u001b[39m)\n\u001b[1;32m     11\u001b[0m \u001b[38;5;28;01mif\u001b[39;00m os\u001b[38;5;241m.\u001b[39mpath\u001b[38;5;241m.\u001b[39misfile(test_report):\n\u001b[0;32m---> 12\u001b[0m     report\u001b[38;5;241m=\u001b[39m\u001b[43mpd\u001b[49m\u001b[38;5;241;43m.\u001b[39;49m\u001b[43mread_csv\u001b[49m\u001b[43m(\u001b[49m\u001b[43mtest_report\u001b[49m\u001b[43m,\u001b[49m\u001b[43mindex_col\u001b[49m\u001b[38;5;241;43m=\u001b[39;49m\u001b[38;5;241;43m0\u001b[39;49m\u001b[43m)\u001b[49m\n\u001b[1;32m     13\u001b[0m     accuracies\u001b[38;5;241m+\u001b[39m\u001b[38;5;241m=\u001b[39m[(dimension,sample_count_factor,instance_count,fold,d_model,n_heads,n_layers,report\u001b[38;5;241m.\u001b[39mloc[\u001b[38;5;124m'\u001b[39m\u001b[38;5;124msupport\u001b[39m\u001b[38;5;124m'\u001b[39m,\u001b[38;5;124m'\u001b[39m\u001b[38;5;124maccuracy\u001b[39m\u001b[38;5;124m'\u001b[39m])]\n\u001b[1;32m     14\u001b[0m \u001b[38;5;28;01melse\u001b[39;00m:\n",
      "File \u001b[0;32m/opt/conda/envs/Base/lib/python3.8/site-packages/pandas/io/parsers/readers.py:912\u001b[0m, in \u001b[0;36mread_csv\u001b[0;34m(filepath_or_buffer, sep, delimiter, header, names, index_col, usecols, dtype, engine, converters, true_values, false_values, skipinitialspace, skiprows, skipfooter, nrows, na_values, keep_default_na, na_filter, verbose, skip_blank_lines, parse_dates, infer_datetime_format, keep_date_col, date_parser, date_format, dayfirst, cache_dates, iterator, chunksize, compression, thousands, decimal, lineterminator, quotechar, quoting, doublequote, escapechar, comment, encoding, encoding_errors, dialect, on_bad_lines, delim_whitespace, low_memory, memory_map, float_precision, storage_options, dtype_backend)\u001b[0m\n\u001b[1;32m    899\u001b[0m kwds_defaults \u001b[38;5;241m=\u001b[39m _refine_defaults_read(\n\u001b[1;32m    900\u001b[0m     dialect,\n\u001b[1;32m    901\u001b[0m     delimiter,\n\u001b[0;32m   (...)\u001b[0m\n\u001b[1;32m    908\u001b[0m     dtype_backend\u001b[38;5;241m=\u001b[39mdtype_backend,\n\u001b[1;32m    909\u001b[0m )\n\u001b[1;32m    910\u001b[0m kwds\u001b[38;5;241m.\u001b[39mupdate(kwds_defaults)\n\u001b[0;32m--> 912\u001b[0m \u001b[38;5;28;01mreturn\u001b[39;00m \u001b[43m_read\u001b[49m\u001b[43m(\u001b[49m\u001b[43mfilepath_or_buffer\u001b[49m\u001b[43m,\u001b[49m\u001b[43m \u001b[49m\u001b[43mkwds\u001b[49m\u001b[43m)\u001b[49m\n",
      "File \u001b[0;32m/opt/conda/envs/Base/lib/python3.8/site-packages/pandas/io/parsers/readers.py:583\u001b[0m, in \u001b[0;36m_read\u001b[0;34m(filepath_or_buffer, kwds)\u001b[0m\n\u001b[1;32m    580\u001b[0m     \u001b[38;5;28;01mreturn\u001b[39;00m parser\n\u001b[1;32m    582\u001b[0m \u001b[38;5;28;01mwith\u001b[39;00m parser:\n\u001b[0;32m--> 583\u001b[0m     \u001b[38;5;28;01mreturn\u001b[39;00m \u001b[43mparser\u001b[49m\u001b[38;5;241;43m.\u001b[39;49m\u001b[43mread\u001b[49m\u001b[43m(\u001b[49m\u001b[43mnrows\u001b[49m\u001b[43m)\u001b[49m\n",
      "File \u001b[0;32m/opt/conda/envs/Base/lib/python3.8/site-packages/pandas/io/parsers/readers.py:1704\u001b[0m, in \u001b[0;36mTextFileReader.read\u001b[0;34m(self, nrows)\u001b[0m\n\u001b[1;32m   1697\u001b[0m nrows \u001b[38;5;241m=\u001b[39m validate_integer(\u001b[38;5;124m\"\u001b[39m\u001b[38;5;124mnrows\u001b[39m\u001b[38;5;124m\"\u001b[39m, nrows)\n\u001b[1;32m   1698\u001b[0m \u001b[38;5;28;01mtry\u001b[39;00m:\n\u001b[1;32m   1699\u001b[0m     \u001b[38;5;66;03m# error: \"ParserBase\" has no attribute \"read\"\u001b[39;00m\n\u001b[1;32m   1700\u001b[0m     (\n\u001b[1;32m   1701\u001b[0m         index,\n\u001b[1;32m   1702\u001b[0m         columns,\n\u001b[1;32m   1703\u001b[0m         col_dict,\n\u001b[0;32m-> 1704\u001b[0m     ) \u001b[38;5;241m=\u001b[39m \u001b[38;5;28;43mself\u001b[39;49m\u001b[38;5;241;43m.\u001b[39;49m\u001b[43m_engine\u001b[49m\u001b[38;5;241;43m.\u001b[39;49m\u001b[43mread\u001b[49m\u001b[43m(\u001b[49m\u001b[43m  \u001b[49m\u001b[38;5;66;43;03m# type: ignore[attr-defined]\u001b[39;49;00m\n\u001b[1;32m   1705\u001b[0m \u001b[43m        \u001b[49m\u001b[43mnrows\u001b[49m\n\u001b[1;32m   1706\u001b[0m \u001b[43m    \u001b[49m\u001b[43m)\u001b[49m\n\u001b[1;32m   1707\u001b[0m \u001b[38;5;28;01mexcept\u001b[39;00m \u001b[38;5;167;01mException\u001b[39;00m:\n\u001b[1;32m   1708\u001b[0m     \u001b[38;5;28mself\u001b[39m\u001b[38;5;241m.\u001b[39mclose()\n",
      "File \u001b[0;32m/opt/conda/envs/Base/lib/python3.8/site-packages/pandas/io/parsers/c_parser_wrapper.py:234\u001b[0m, in \u001b[0;36mCParserWrapper.read\u001b[0;34m(self, nrows)\u001b[0m\n\u001b[1;32m    232\u001b[0m \u001b[38;5;28;01mtry\u001b[39;00m:\n\u001b[1;32m    233\u001b[0m     \u001b[38;5;28;01mif\u001b[39;00m \u001b[38;5;28mself\u001b[39m\u001b[38;5;241m.\u001b[39mlow_memory:\n\u001b[0;32m--> 234\u001b[0m         chunks \u001b[38;5;241m=\u001b[39m \u001b[38;5;28;43mself\u001b[39;49m\u001b[38;5;241;43m.\u001b[39;49m\u001b[43m_reader\u001b[49m\u001b[38;5;241;43m.\u001b[39;49m\u001b[43mread_low_memory\u001b[49m\u001b[43m(\u001b[49m\u001b[43mnrows\u001b[49m\u001b[43m)\u001b[49m\n\u001b[1;32m    235\u001b[0m         \u001b[38;5;66;03m# destructive to chunks\u001b[39;00m\n\u001b[1;32m    236\u001b[0m         data \u001b[38;5;241m=\u001b[39m _concatenate_chunks(chunks)\n",
      "File \u001b[0;32m/opt/conda/envs/Base/lib/python3.8/site-packages/pandas/_libs/parsers.pyx:812\u001b[0m, in \u001b[0;36mpandas._libs.parsers.TextReader.read_low_memory\u001b[0;34m()\u001b[0m\n",
      "File \u001b[0;32m/opt/conda/envs/Base/lib/python3.8/site-packages/pandas/_libs/parsers.pyx:889\u001b[0m, in \u001b[0;36mpandas._libs.parsers.TextReader._read_rows\u001b[0;34m()\u001b[0m\n",
      "File \u001b[0;32m/opt/conda/envs/Base/lib/python3.8/site-packages/pandas/_libs/parsers.pyx:1034\u001b[0m, in \u001b[0;36mpandas._libs.parsers.TextReader._convert_column_data\u001b[0;34m()\u001b[0m\n",
      "File \u001b[0;32m/opt/conda/envs/Base/lib/python3.8/site-packages/pandas/_libs/parsers.pyx:1088\u001b[0m, in \u001b[0;36mpandas._libs.parsers.TextReader._convert_tokens\u001b[0;34m()\u001b[0m\n",
      "File \u001b[0;32m/opt/conda/envs/Base/lib/python3.8/site-packages/pandas/_libs/parsers.pyx:1163\u001b[0m, in \u001b[0;36mpandas._libs.parsers.TextReader._convert_with_dtype\u001b[0;34m()\u001b[0m\n",
      "File \u001b[0;32m/opt/conda/envs/Base/lib/python3.8/site-packages/pandas/core/dtypes/common.py:1335\u001b[0m, in \u001b[0;36mis_extension_array_dtype\u001b[0;34m(arr_or_dtype)\u001b[0m\n\u001b[1;32m   1326\u001b[0m     \u001b[38;5;66;03m# Note: if other EA dtypes are ever held in HybridBlock, exclude those\u001b[39;00m\n\u001b[1;32m   1327\u001b[0m     \u001b[38;5;66;03m#  here too.\u001b[39;00m\n\u001b[1;32m   1328\u001b[0m     \u001b[38;5;66;03m# NB: need to check DatetimeTZDtype and not is_datetime64tz_dtype\u001b[39;00m\n\u001b[1;32m   1329\u001b[0m     \u001b[38;5;66;03m#  to exclude ArrowTimestampUSDtype\u001b[39;00m\n\u001b[1;32m   1330\u001b[0m     \u001b[38;5;28;01mreturn\u001b[39;00m \u001b[38;5;28misinstance\u001b[39m(dtype, ExtensionDtype) \u001b[38;5;129;01mand\u001b[39;00m \u001b[38;5;129;01mnot\u001b[39;00m \u001b[38;5;28misinstance\u001b[39m(\n\u001b[1;32m   1331\u001b[0m         dtype, (DatetimeTZDtype, PeriodDtype)\n\u001b[1;32m   1332\u001b[0m     )\n\u001b[0;32m-> 1335\u001b[0m \u001b[38;5;28;01mdef\u001b[39;00m \u001b[38;5;21mis_extension_array_dtype\u001b[39m(arr_or_dtype) \u001b[38;5;241m-\u001b[39m\u001b[38;5;241m>\u001b[39m \u001b[38;5;28mbool\u001b[39m:\n\u001b[1;32m   1336\u001b[0m \u001b[38;5;250m    \u001b[39m\u001b[38;5;124;03m\"\"\"\u001b[39;00m\n\u001b[1;32m   1337\u001b[0m \u001b[38;5;124;03m    Check if an object is a pandas extension array type.\u001b[39;00m\n\u001b[1;32m   1338\u001b[0m \n\u001b[0;32m   (...)\u001b[0m\n\u001b[1;32m   1378\u001b[0m \u001b[38;5;124;03m    False\u001b[39;00m\n\u001b[1;32m   1379\u001b[0m \u001b[38;5;124;03m    \"\"\"\u001b[39;00m\n\u001b[1;32m   1380\u001b[0m     dtype \u001b[38;5;241m=\u001b[39m \u001b[38;5;28mgetattr\u001b[39m(arr_or_dtype, \u001b[38;5;124m\"\u001b[39m\u001b[38;5;124mdtype\u001b[39m\u001b[38;5;124m\"\u001b[39m, arr_or_dtype)\n",
      "\u001b[0;31mKeyboardInterrupt\u001b[0m: "
     ]
    }
   ],
   "source": [
    "accuracies=[]\n",
    "for dimension in [3,5,10,20]:\n",
    "    for sample_count_factor in [50,100]:\n",
    "        for instance_count in [999]:\n",
    "            for fold in range(0,10):\n",
    "                for d_model in [30,50]:\n",
    "                    for n_heads in [1,3]:\n",
    "                        for n_layers in [1,3]:\n",
    "                            config_dir=f'dim_{dimension}_instances_{instance_count}_samples_{sample_count_factor}_fold_{fold}_n_heads_{n_heads}_n_layers_{n_layers}_d_model_{d_model}_d_k_None_d_v_None'\n",
    "                            test_report=os.path.join(result_dir, config_dir, 'test_classification_report.csv')\n",
    "                            if os.path.isfile(test_report):\n",
    "                                report=pd.read_csv(test_report,index_col=0)\n",
    "                                accuracies+=[(dimension,sample_count_factor,instance_count,fold,d_model,n_heads,n_layers,report.loc['support','accuracy'])]\n",
    "                            else:\n",
    "                                print(test_report)\n",
    "\n"
   ]
  },
  {
   "cell_type": "code",
   "execution_count": null,
   "id": "c138bd16-21c5-4adb-9950-972c7ac789be",
   "metadata": {},
   "outputs": [],
   "source": [
    "accuracy_df=pd.DataFrame(accuracies,columns=['dimension','sample_count_factor','instance_count','fold','d_model','n_heads','n_layers','accuracy'])\n",
    "accuracy_df['n_layers, n_heads']=accuracy_df.apply(lambda r: str(r['n_layers'])+', ' + str(r['n_heads']), axis=1)\n",
    "accuracy_df['sample size']=accuracy_df['sample_count_factor'].apply(lambda x: f'{x}d')\n",
    "accuracy_df['model dimension']=accuracy_df['d_model']"
   ]
  },
  {
   "cell_type": "code",
   "execution_count": null,
   "id": "93edf54f-cd6a-4539-812a-42b3c168346c",
   "metadata": {},
   "outputs": [],
   "source": [
    "sns.set(font_scale=2)\n",
    "plt.figure(figsize=(8,16))\n",
    "g=sns.catplot(\n",
    "    data=accuracy_df, x='model dimension', y='accuracy',\n",
    "    col='sample size', row='dimension', hue='n_layers, n_heads', kind='box', palette=color_palette_4\n",
    ")\n",
    "for i, row_axes in enumerate(g.axes):\n",
    "    for j, ax in enumerate(row_axes):\n",
    "        title = ax.get_title()\n",
    "        title_parts = title.split('|')\n",
    "        title = '\\n'.join(title_parts)\n",
    "        ax.set_title(title)\n",
    "\n",
    "\n",
    "plt.savefig('figures/configuration_accuracy.pdf')"
   ]
  },
  {
   "cell_type": "code",
   "execution_count": null,
   "id": "9366aa8f-06a0-43f5-a66a-549e1a8da2b7",
   "metadata": {},
   "outputs": [],
   "source": [
    "from sklearn.metrics import confusion_matrix"
   ]
  },
  {
   "cell_type": "code",
   "execution_count": null,
   "id": "12f77f6f-68ee-4dfb-844b-f82b2bbfe322",
   "metadata": {},
   "outputs": [],
   "source": [
    "sns.set(font_scale=1.8)\n",
    "accuracies=[]\n",
    "for dimension in [3,5,10,20]:\n",
    "    for sample_count_factor in [50]:\n",
    "        for instance_count in [999]:\n",
    "            for d_model in [30]:\n",
    "                for n_heads in [1]:\n",
    "                    for n_layers in [1]:\n",
    "                        all_folds_predictions=pd.DataFrame()\n",
    "                        for fold in range(0,10):\n",
    "                            config_dir=f'dim_{dimension}_instances_{instance_count}_samples_{sample_count_factor}_fold_{fold}_n_heads_{n_heads}_n_layers_{n_layers}_d_model_{d_model}_d_k_None_d_v_None'\n",
    "                            test_predictions_file=os.path.join(result_dir, config_dir, 'test_ys_predictions.csv')\n",
    "                            if os.path.isfile(test_predictions_file):\n",
    "                                test_predictions=pd.read_csv(test_predictions_file,index_col=0)\n",
    "                                all_folds_predictions=pd.concat([all_folds_predictions,test_predictions])\n",
    "                            else:\n",
    "                                print('not found', test_predictions_file)\n",
    "                        print(all_folds_predictions)\n",
    "                        if all_folds_predictions.shape[0]>0:\n",
    "                            \n",
    "                            \n",
    "\n",
    "                            # Example predicted labels\n",
    "\n",
    "                            #ConfusionMatrixDisplay.from_predictions(all_folds_predictions['ys'], all_folds_predictions['predictions'])\n",
    "                            #plt.show()\n",
    "                            cm = confusion_matrix(all_folds_predictions['ys'], all_folds_predictions['predictions'], labels=list(range(1,25)))\n",
    "                        \n",
    "                            # Create a heatmap of the confusion matrix with seaborn\n",
    "                            plt.figure(figsize=(19,15))\n",
    "                            cm=pd.DataFrame(cm, index=list(range(1,25)),columns=list(range(1,25)))\n",
    "                            sns.heatmap(cm, annot=True, fmt=\"d\", cmap=\"YlGnBu\", cbar=True)\n",
    "\n",
    "                            # Set labels and title\n",
    "                            plt.xlabel('Predicted Labels')\n",
    "                            plt.ylabel('True Labels')\n",
    "                            #plt.title('Confusion Matrix')\n",
    "                            plt.tight_layout()\n",
    "                            #plt.show()\n",
    "                            plt.savefig(f'figures/static_problem_classification/confusion_matrix_dim_{dimension}_instances_{instance_count}_samples_{sample_count_factor}.pdf', bbox_inches='tight')\n",
    "                            "
   ]
  },
  {
   "cell_type": "code",
   "execution_count": null,
   "id": "0d34b3d4-87d0-4796-bf0d-3e0c7ffac3f3",
   "metadata": {},
   "outputs": [],
   "source": [
    "def get_accuracy_from_report_file(test_report):\n",
    "    if os.path.isfile(test_report):\n",
    "        report=pd.read_csv(test_report,index_col=0)\n",
    "        return report.loc['support','accuracy']\n",
    "    else:\n",
    "        print(test_report)\n",
    "        return None"
   ]
  },
  {
   "cell_type": "code",
   "execution_count": null,
   "id": "f83936a9-4ba9-4151-b3b3-eadce87cf94e",
   "metadata": {},
   "outputs": [],
   "source": [
    "agg_accuracies=[]\n",
    "\n",
    "for dimension in [3,5,10,20]:\n",
    "    for sample_count_factor in [50]:\n",
    "        for instance_count in [999]:\n",
    "            for fold in range(0,10):\n",
    "                for d_model in [30]:\n",
    "                    for n_heads in [1]:\n",
    "                        for n_layers in [1]:\n",
    "                            config_dir=f'dim_{dimension}_instances_{instance_count}_samples_{sample_count_factor}_fold_{fold}_n_heads_{n_heads}_n_layers_{n_layers}_d_model_{d_model}_d_k_None_d_v_None'\n",
    "                            test_report=os.path.join('results/problem_classification_stats', config_dir, 'test_classification_report.csv')\n",
    "                            accuracy=get_accuracy_from_report_file(test_report)\n",
    "                            agg_accuracies+=[(dimension,sample_count_factor,instance_count,fold,d_model,n_heads,n_layers,accuracy, 'all')]\n",
    "                            \n",
    "                            for aggregation in ['min','max','std','mean']:\n",
    "                                config_dir=f'dim_{dimension}_instances_{instance_count}_samples_{sample_count_factor}_fold_{fold}_n_heads_{n_heads}_n_layers_{n_layers}_d_model_{d_model}_d_k_None_d_v_None_aggregations_{aggregation}'\n",
    "                                test_report=os.path.join('results_aggregations/problem_classification_stats', config_dir, 'test_classification_report.csv')\n",
    "                                accuracy=get_accuracy_from_report_file(test_report)\n",
    "                                agg_accuracies+=[(dimension,sample_count_factor,instance_count,fold,d_model,n_heads,n_layers,accuracy, aggregation)]\n",
    "\n",
    "\n",
    "agg_accuracy_df=pd.DataFrame(agg_accuracies, columns=['dimension','sample_count_factor','instance_count','fold','d_model','n_heads','n_layers','accuracy','aggregation'])\n",
    "sns.set(font_scale=1.3)\n",
    "g=sns.catplot(\n",
    "    height=3, aspect=1.5, data=agg_accuracy_df, x='aggregation', y='accuracy', row='dimension', kind='box', palette=color_palette_4\n",
    ")\n",
    "plt.tight_layout()\n",
    "plt.savefig('figures/aggregation_accuracy.pdf')"
   ]
  },
  {
   "cell_type": "code",
   "execution_count": null,
   "id": "cf0381fc-dce8-4bd7-a177-3744a4728077",
   "metadata": {},
   "outputs": [],
   "source": []
  },
  {
   "cell_type": "code",
   "execution_count": null,
   "id": "22ef0a8c-a2ca-423a-8108-3bc165b29c7b",
   "metadata": {},
   "outputs": [],
   "source": []
  }
 ],
 "metadata": {
  "kernelspec": {
   "display_name": "Base",
   "language": "python",
   "name": "base"
  },
  "language_info": {
   "codemirror_mode": {
    "name": "ipython",
    "version": 3
   },
   "file_extension": ".py",
   "mimetype": "text/x-python",
   "name": "python",
   "nbconvert_exporter": "python",
   "pygments_lexer": "ipython3",
   "version": "3.8.16"
  }
 },
 "nbformat": 4,
 "nbformat_minor": 5
}
